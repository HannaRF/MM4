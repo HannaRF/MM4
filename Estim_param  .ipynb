{
 "cells": [
  {
   "cell_type": "code",
   "execution_count": 59,
   "metadata": {
    "collapsed": true,
    "jupyter": {
     "outputs_hidden": true
    }
   },
   "outputs": [
    {
     "name": "stdout",
     "output_type": "stream",
     "text": [
      "Requirement already satisfied: pymc3 in /opt/conda/envs/sage/lib/python3.7/site-packages (3.10.0)\n",
      "Requirement already satisfied: typing-extensions>=3.7.4 in /opt/conda/envs/sage/lib/python3.7/site-packages (from pymc3) (3.7.4.3)\n",
      "Requirement already satisfied: theano-pymc==1.0.11 in /opt/conda/envs/sage/lib/python3.7/site-packages (from pymc3) (1.0.11)\n",
      "Requirement already satisfied: arviz>=0.9.0 in /opt/conda/envs/sage/lib/python3.7/site-packages (from pymc3) (0.10.0)\n",
      "Requirement already satisfied: fastprogress>=0.2.0 in /opt/conda/envs/sage/lib/python3.7/site-packages (from pymc3) (1.0.0)\n",
      "Requirement already satisfied: pandas>=0.18.0 in /opt/conda/envs/sage/lib/python3.7/site-packages (from pymc3) (1.1.4)\n",
      "Requirement already satisfied: scipy>=0.18.1 in /opt/conda/envs/sage/lib/python3.7/site-packages (from pymc3) (1.5.2)\n",
      "Requirement already satisfied: numpy>=1.13.0 in /opt/conda/envs/sage/lib/python3.7/site-packages (from pymc3) (1.19.1)\n",
      "Requirement already satisfied: patsy>=0.5.1 in /opt/conda/envs/sage/lib/python3.7/site-packages (from pymc3) (0.5.1)\n",
      "Requirement already satisfied: dill in /opt/conda/envs/sage/lib/python3.7/site-packages (from pymc3) (0.3.3)\n",
      "Requirement already satisfied: netcdf4 in /opt/conda/envs/sage/lib/python3.7/site-packages (from arviz>=0.9.0->pymc3) (1.5.5)\n",
      "Requirement already satisfied: packaging in /opt/conda/envs/sage/lib/python3.7/site-packages (from arviz>=0.9.0->pymc3) (20.4)\n",
      "Requirement already satisfied: xarray>=0.16.1 in /opt/conda/envs/sage/lib/python3.7/site-packages (from arviz>=0.9.0->pymc3) (0.16.2)\n",
      "Requirement already satisfied: setuptools>=38.4 in /opt/conda/envs/sage/lib/python3.7/site-packages (from arviz>=0.9.0->pymc3) (49.3.1.post20200810)\n",
      "Requirement already satisfied: matplotlib>=3.0 in /opt/conda/envs/sage/lib/python3.7/site-packages (from arviz>=0.9.0->pymc3) (3.3.3)\n",
      "Requirement already satisfied: pytz>=2017.2 in /opt/conda/envs/sage/lib/python3.7/site-packages (from pandas>=0.18.0->pymc3) (2020.1)\n",
      "Requirement already satisfied: python-dateutil>=2.7.3 in /opt/conda/envs/sage/lib/python3.7/site-packages (from pandas>=0.18.0->pymc3) (2.8.1)\n",
      "Requirement already satisfied: six in /opt/conda/envs/sage/lib/python3.7/site-packages (from patsy>=0.5.1->pymc3) (1.15.0)\n",
      "Requirement already satisfied: cftime in /opt/conda/envs/sage/lib/python3.7/site-packages (from netcdf4->arviz>=0.9.0->pymc3) (1.3.0)\n",
      "Requirement already satisfied: pyparsing>=2.0.2 in /opt/conda/envs/sage/lib/python3.7/site-packages (from packaging->arviz>=0.9.0->pymc3) (2.4.7)\n",
      "Requirement already satisfied: cycler>=0.10 in /opt/conda/envs/sage/lib/python3.7/site-packages (from matplotlib>=3.0->arviz>=0.9.0->pymc3) (0.10.0)\n",
      "Requirement already satisfied: kiwisolver>=1.0.1 in /opt/conda/envs/sage/lib/python3.7/site-packages (from matplotlib>=3.0->arviz>=0.9.0->pymc3) (1.2.0)\n",
      "Requirement already satisfied: pillow>=6.2.0 in /opt/conda/envs/sage/lib/python3.7/site-packages (from matplotlib>=3.0->arviz>=0.9.0->pymc3) (8.0.1)\n"
     ]
    }
   ],
   "source": [
    "!pip install pymc3"
   ]
  },
  {
   "cell_type": "code",
   "execution_count": 1,
   "metadata": {},
   "outputs": [],
   "source": [
    "%matplotlib inline\n",
    "import pymc3 as pm\n",
    "from pymc3.ode import DifferentialEquation\n",
    "import numpy as np\n",
    "import matplotlib.pyplot as plt\n",
    "from scipy.integrate import odeint\n",
    "import arviz as az\n",
    "import theano\n",
    "import pandas as  pd\n",
    "\n",
    "plt.style.use('seaborn-darkgrid')"
   ]
  },
  {
   "cell_type": "code",
   "execution_count": 2,
   "metadata": {},
   "outputs": [],
   "source": [
    "data = pd.read_csv(\"owid-covid-data.csv\")\n",
    "data = data[data.iso_code==\"FRA\"]\n",
    "data = data[data.date>='2020-04-01'] # t0 = -30\n",
    "popFRA = 67*10^6 "
   ]
  },
  {
   "cell_type": "code",
   "execution_count": 3,
   "metadata": {},
   "outputs": [],
   "source": [
    "def ODE (y,t,lambda_,alpha,p,theta,gamma, mu,mu1,mu2,t1,t2):\n",
    "    S,E,I,A,R,D = y\n",
    "\n",
    "    # transição de mu1 para mu2 \n",
    "    mu = ( ( (np.tanh(-t + t2) + 1 )/2 ) * abs(mu1 - mu2) ) + mu2\n",
    "    \n",
    "    \n",
    "    # período de isolamento com queda de lambda_ entre t1 e t2, início e fim do lockdown respectivamente\n",
    "    factor = (1 - (1 + np.tanh(t - t1)) * (1 - np.tanh(t - t2) ) )\n",
    "    if factor >= 0:\n",
    "        lambda_ = lambda_ * factor\n",
    "    \n",
    "    return [-lambda_*S*I,\n",
    "            lambda_*S*I - alpha*E,\n",
    "            (1-p)*alpha*E - gamma*I - mu*I,\n",
    "            p*alpha*E - theta*A,\n",
    "            gamma*I + theta*A,\n",
    "            mu*I ]"
   ]
  },
  {
   "cell_type": "code",
   "execution_count": 4,
   "metadata": {},
   "outputs": [],
   "source": [
    "lambda_ = 0.18\n",
    "alpha = 0.2\n",
    "p = 0.5\n",
    "theta = 0.5\n",
    "gamma = 0.15\n",
    "mu = 0.05\n",
    "mu1 = 0.05\n",
    "mu2 = 0.05\n",
    "# t0 = -30  \n",
    "t1 = 55\n",
    "t2 = 110\n",
    "# obtidos do interact"
   ]
  },
  {
   "cell_type": "code",
   "execution_count": 5,
   "metadata": {},
   "outputs": [],
   "source": [
    "times = np.arange(0, len(data)+1, 1)\n",
    "inits = [.99, 0,.001, 0, 0, 0]\n",
    "    \n",
    "# Gerando curvas simuladas\n",
    "y = odeint(ODE, t=times, y0=inits, args=(lambda_,alpha,p,theta,gamma,mu,mu1,mu2,t1,t2), rtol=1e-8)\n",
    "\n",
    "# Simulando dados  Assumindo uma distribuição log-normal com média igual às séries simuladas\n",
    "cases = data.total_cases\n",
    "deaths = data.total_deaths"
   ]
  },
  {
   "cell_type": "code",
   "execution_count": 6,
   "metadata": {},
   "outputs": [
    {
     "data": {
      "image/png": "[encoded data removed]",
      "text/plain": [
       "<Figure size 432x288 with 1 Axes>"
      ]
     },
     "metadata": {},
     "output_type": "display_data"
    }
   ],
   "source": [
    "plt.plot(times[1::],cases,color='C1', marker='.', linestyle='none',label = f'cases obs')\n",
    "plt.plot(times, y[:, -2]*popFRA, color='C1', alpha=0.5, label=f'$R(t)$')\n",
    "plt.legend()\n",
    "plt.savefig('cases.png');"
   ]
  },
  {
   "cell_type": "code",
   "execution_count": 7,
   "metadata": {},
   "outputs": [
    {
     "data": {
      "image/png": "[encoded data removed]",
      "text/plain": [
       "<Figure size 432x288 with 1 Axes>"
      ]
     },
     "metadata": {},
     "output_type": "display_data"
    }
   ],
   "source": [
    "plt.plot(times[1::],deaths,color='C0', marker='.', linestyle='none',label = f'deaths obs')\n",
    "plt.plot(times, y[:, -1]*popFRA, color='C0', alpha=0.5, label=f'$D(t)$')\n",
    "plt.legend()\n",
    "plt.savefig('deaths.png');"
   ]
  },
  {
   "cell_type": "markdown",
   "metadata": {},
   "source": [
    "-------------------------------------------------------------------------------------------------------------------"
   ]
  },
  {
   "cell_type": "code",
   "execution_count": 8,
   "metadata": {},
   "outputs": [],
   "source": [
    "def ODE (y,t,p):\n",
    "    \n",
    "    S,E,I,A,R,D = y\n",
    "    lambda_,alpha,p,theta,gamma, mu,mu1,mu2,t1,t2 = p\n",
    "    \n",
    "    # transição de mu1 para mu2 \n",
    "    mu = ( ( (np.tanh(-t + t2) + 1 )/2 ) * abs(mu1 - mu2) ) + mu2\n",
    "    \n",
    "    # período de isolamento com queda de lambda_ entre t1 e t2, início e fim do lockdown respectivamente\n",
    "    factor = (1 - (1 + np.tanh(t - t1)) * (1 - np.tanh(t - t2) ) )\n",
    "    if factor >= 0:\n",
    "        lambda_ = lambda_ * factor\n",
    "        \n",
    "    return [-lambda_*S*I,\n",
    "            lambda_*S*I - alpha*E,\n",
    "            (1-p)*alpha*E - gamma*I - mu*I,\n",
    "            p*alpha*E - theta*A,\n",
    "            gamma*I + theta*A,\n",
    "            mu*I ]"
   ]
  },
  {
   "cell_type": "code",
   "execution_count": 9,
   "metadata": {},
   "outputs": [
    {
     "ename": "ValueError",
     "evalue": "length not known: y [id A]\n",
     "output_type": "error",
     "traceback": [
      "\u001b[0;31m---------------------------------------------------------------------------\u001b[0m",
      "\u001b[0;31mValueError\u001b[0m                                Traceback (most recent call last)",
      "\u001b[0;32m<ipython-input-9-6bd29e6ef0bc>\u001b[0m in \u001b[0;36m<module>\u001b[0;34m()\u001b[0m\n\u001b[1;32m      4\u001b[0m     \u001b[0mn_states\u001b[0m\u001b[0;34m=\u001b[0m\u001b[0mInteger\u001b[0m\u001b[0;34m(\u001b[0m\u001b[0;36m6\u001b[0m\u001b[0;34m)\u001b[0m\u001b[0;34m,\u001b[0m\u001b[0;34m\u001b[0m\u001b[0;34m\u001b[0m\u001b[0m\n\u001b[1;32m      5\u001b[0m     \u001b[0mn_theta\u001b[0m\u001b[0;34m=\u001b[0m\u001b[0mInteger\u001b[0m\u001b[0;34m(\u001b[0m\u001b[0;36m10\u001b[0m\u001b[0;34m)\u001b[0m\u001b[0;34m,\u001b[0m\u001b[0;34m\u001b[0m\u001b[0;34m\u001b[0m\u001b[0m\n\u001b[0;32m----> 6\u001b[0;31m     \u001b[0mt0\u001b[0m\u001b[0;34m=\u001b[0m\u001b[0mInteger\u001b[0m\u001b[0;34m(\u001b[0m\u001b[0;36m0\u001b[0m\u001b[0;34m)\u001b[0m\u001b[0;34m,\u001b[0m\u001b[0;34m\u001b[0m\u001b[0;34m\u001b[0m\u001b[0m\n\u001b[0m\u001b[1;32m      7\u001b[0m )\n",
      "\u001b[0;32m/opt/conda/envs/sage/lib/python3.7/site-packages/pymc3/ode/ode.py\u001b[0m in \u001b[0;36m__init__\u001b[0;34m(self, func, times, n_states, n_theta, t0)\u001b[0m\n\u001b[1;32m     95\u001b[0m         \u001b[0;31m# Private\u001b[0m\u001b[0;34m\u001b[0m\u001b[0;34m\u001b[0m\u001b[0;34m\u001b[0m\u001b[0m\n\u001b[1;32m     96\u001b[0m         \u001b[0mself\u001b[0m\u001b[0;34m.\u001b[0m\u001b[0m_augmented_times\u001b[0m \u001b[0;34m=\u001b[0m \u001b[0mnp\u001b[0m\u001b[0;34m.\u001b[0m\u001b[0minsert\u001b[0m\u001b[0;34m(\u001b[0m\u001b[0mtimes\u001b[0m\u001b[0;34m,\u001b[0m \u001b[0;36m0\u001b[0m\u001b[0;34m,\u001b[0m \u001b[0mt0\u001b[0m\u001b[0;34m)\u001b[0m\u001b[0;34m.\u001b[0m\u001b[0mastype\u001b[0m\u001b[0;34m(\u001b[0m\u001b[0mfloatX\u001b[0m\u001b[0;34m)\u001b[0m\u001b[0;34m\u001b[0m\u001b[0;34m\u001b[0m\u001b[0m\n\u001b[0;32m---> 97\u001b[0;31m         \u001b[0mself\u001b[0m\u001b[0;34m.\u001b[0m\u001b[0m_augmented_func\u001b[0m \u001b[0;34m=\u001b[0m \u001b[0mutils\u001b[0m\u001b[0;34m.\u001b[0m\u001b[0maugment_system\u001b[0m\u001b[0;34m(\u001b[0m\u001b[0mfunc\u001b[0m\u001b[0;34m,\u001b[0m \u001b[0mself\u001b[0m\u001b[0;34m.\u001b[0m\u001b[0mn_states\u001b[0m\u001b[0;34m,\u001b[0m \u001b[0mself\u001b[0m\u001b[0;34m.\u001b[0m\u001b[0mn_theta\u001b[0m\u001b[0;34m)\u001b[0m\u001b[0;34m\u001b[0m\u001b[0;34m\u001b[0m\u001b[0m\n\u001b[0m\u001b[1;32m     98\u001b[0m         \u001b[0mself\u001b[0m\u001b[0;34m.\u001b[0m\u001b[0m_sens_ic\u001b[0m \u001b[0;34m=\u001b[0m \u001b[0mutils\u001b[0m\u001b[0;34m.\u001b[0m\u001b[0mmake_sens_ic\u001b[0m\u001b[0;34m(\u001b[0m\u001b[0mself\u001b[0m\u001b[0;34m.\u001b[0m\u001b[0mn_states\u001b[0m\u001b[0;34m,\u001b[0m \u001b[0mself\u001b[0m\u001b[0;34m.\u001b[0m\u001b[0mn_theta\u001b[0m\u001b[0;34m,\u001b[0m \u001b[0mfloatX\u001b[0m\u001b[0;34m)\u001b[0m\u001b[0;34m\u001b[0m\u001b[0;34m\u001b[0m\u001b[0m\n\u001b[1;32m     99\u001b[0m \u001b[0;34m\u001b[0m\u001b[0m\n",
      "\u001b[0;32m/opt/conda/envs/sage/lib/python3.7/site-packages/pymc3/ode/utils.py\u001b[0m in \u001b[0;36maugment_system\u001b[0;34m(ode_func, n_states, n_theta)\u001b[0m\n\u001b[1;32m    103\u001b[0m \u001b[0;34m\u001b[0m\u001b[0m\n\u001b[1;32m    104\u001b[0m     \u001b[0;31m# Get symbolic representation of the ODEs by passing tensors for y, t and theta\u001b[0m\u001b[0;34m\u001b[0m\u001b[0;34m\u001b[0m\u001b[0;34m\u001b[0m\u001b[0m\n\u001b[0;32m--> 105\u001b[0;31m     \u001b[0myhat\u001b[0m \u001b[0;34m=\u001b[0m \u001b[0mode_func\u001b[0m\u001b[0;34m(\u001b[0m\u001b[0mt_y\u001b[0m\u001b[0;34m,\u001b[0m \u001b[0mt_t\u001b[0m\u001b[0;34m,\u001b[0m \u001b[0mt_p\u001b[0m\u001b[0;34m[\u001b[0m\u001b[0mn_states\u001b[0m\u001b[0;34m:\u001b[0m\u001b[0;34m]\u001b[0m\u001b[0;34m)\u001b[0m\u001b[0;34m\u001b[0m\u001b[0;34m\u001b[0m\u001b[0m\n\u001b[0m\u001b[1;32m    106\u001b[0m     \u001b[0;31m# Stack the results of the ode_func into a single tensor variable\u001b[0m\u001b[0;34m\u001b[0m\u001b[0;34m\u001b[0m\u001b[0;34m\u001b[0m\u001b[0m\n\u001b[1;32m    107\u001b[0m     \u001b[0;32mif\u001b[0m \u001b[0;32mnot\u001b[0m \u001b[0misinstance\u001b[0m\u001b[0;34m(\u001b[0m\u001b[0myhat\u001b[0m\u001b[0;34m,\u001b[0m \u001b[0;34m(\u001b[0m\u001b[0mlist\u001b[0m\u001b[0;34m,\u001b[0m \u001b[0mtuple\u001b[0m\u001b[0;34m)\u001b[0m\u001b[0;34m)\u001b[0m\u001b[0;34m:\u001b[0m\u001b[0;34m\u001b[0m\u001b[0;34m\u001b[0m\u001b[0m\n",
      "\u001b[0;32m<ipython-input-8-a1987526b728>\u001b[0m in \u001b[0;36mODE\u001b[0;34m(y, t, p)\u001b[0m\n\u001b[1;32m      1\u001b[0m \u001b[0;32mdef\u001b[0m \u001b[0mODE\u001b[0m \u001b[0;34m(\u001b[0m\u001b[0my\u001b[0m\u001b[0;34m,\u001b[0m\u001b[0mt\u001b[0m\u001b[0;34m,\u001b[0m\u001b[0mp\u001b[0m\u001b[0;34m)\u001b[0m\u001b[0;34m:\u001b[0m\u001b[0;34m\u001b[0m\u001b[0;34m\u001b[0m\u001b[0m\n\u001b[1;32m      2\u001b[0m \u001b[0;34m\u001b[0m\u001b[0m\n\u001b[0;32m----> 3\u001b[0;31m     \u001b[0mS\u001b[0m\u001b[0;34m,\u001b[0m\u001b[0mE\u001b[0m\u001b[0;34m,\u001b[0m\u001b[0mI\u001b[0m\u001b[0;34m,\u001b[0m\u001b[0mA\u001b[0m\u001b[0;34m,\u001b[0m\u001b[0mR\u001b[0m\u001b[0;34m,\u001b[0m\u001b[0mD\u001b[0m \u001b[0;34m=\u001b[0m \u001b[0my\u001b[0m\u001b[0;34m\u001b[0m\u001b[0;34m\u001b[0m\u001b[0m\n\u001b[0m\u001b[1;32m      4\u001b[0m     \u001b[0mlambda_\u001b[0m\u001b[0;34m,\u001b[0m\u001b[0malpha\u001b[0m\u001b[0;34m,\u001b[0m\u001b[0mp\u001b[0m\u001b[0;34m,\u001b[0m\u001b[0mtheta\u001b[0m\u001b[0;34m,\u001b[0m\u001b[0mgamma\u001b[0m\u001b[0;34m,\u001b[0m \u001b[0mmu\u001b[0m\u001b[0;34m,\u001b[0m\u001b[0mmu1\u001b[0m\u001b[0;34m,\u001b[0m\u001b[0mmu2\u001b[0m\u001b[0;34m,\u001b[0m\u001b[0mt1\u001b[0m\u001b[0;34m,\u001b[0m\u001b[0mt2\u001b[0m \u001b[0;34m=\u001b[0m \u001b[0mp\u001b[0m\u001b[0;34m\u001b[0m\u001b[0;34m\u001b[0m\u001b[0m\n\u001b[1;32m      5\u001b[0m \u001b[0;34m\u001b[0m\u001b[0m\n",
      "\u001b[0;32m/opt/conda/envs/sage/lib/python3.7/site-packages/theano/tensor/var.py\u001b[0m in \u001b[0;36m__iter__\u001b[0;34m(self)\u001b[0m\n\u001b[1;32m    635\u001b[0m     \u001b[0;32mdef\u001b[0m \u001b[0m__iter__\u001b[0m\u001b[0;34m(\u001b[0m\u001b[0mself\u001b[0m\u001b[0;34m)\u001b[0m\u001b[0;34m:\u001b[0m\u001b[0;34m\u001b[0m\u001b[0;34m\u001b[0m\u001b[0m\n\u001b[1;32m    636\u001b[0m         \u001b[0;32mtry\u001b[0m\u001b[0;34m:\u001b[0m\u001b[0;34m\u001b[0m\u001b[0;34m\u001b[0m\u001b[0m\n\u001b[0;32m--> 637\u001b[0;31m             \u001b[0;32mfor\u001b[0m \u001b[0mi\u001b[0m \u001b[0;32min\u001b[0m \u001b[0mrange\u001b[0m\u001b[0;34m(\u001b[0m\u001b[0mtheano\u001b[0m\u001b[0;34m.\u001b[0m\u001b[0mtensor\u001b[0m\u001b[0;34m.\u001b[0m\u001b[0mbasic\u001b[0m\u001b[0;34m.\u001b[0m\u001b[0mget_vector_length\u001b[0m\u001b[0;34m(\u001b[0m\u001b[0mself\u001b[0m\u001b[0;34m)\u001b[0m\u001b[0;34m)\u001b[0m\u001b[0;34m:\u001b[0m\u001b[0;34m\u001b[0m\u001b[0;34m\u001b[0m\u001b[0m\n\u001b[0m\u001b[1;32m    638\u001b[0m                 \u001b[0;32myield\u001b[0m \u001b[0mself\u001b[0m\u001b[0;34m[\u001b[0m\u001b[0mi\u001b[0m\u001b[0;34m]\u001b[0m\u001b[0;34m\u001b[0m\u001b[0;34m\u001b[0m\u001b[0m\n\u001b[1;32m    639\u001b[0m         \u001b[0;32mexcept\u001b[0m \u001b[0mTypeError\u001b[0m\u001b[0;34m:\u001b[0m\u001b[0;34m\u001b[0m\u001b[0;34m\u001b[0m\u001b[0m\n",
      "\u001b[0;32m/opt/conda/envs/sage/lib/python3.7/site-packages/theano/tensor/basic.py\u001b[0m in \u001b[0;36mget_vector_length\u001b[0;34m(v)\u001b[0m\n\u001b[1;32m   5015\u001b[0m     \u001b[0;32melse\u001b[0m\u001b[0;34m:\u001b[0m\u001b[0;34m\u001b[0m\u001b[0;34m\u001b[0m\u001b[0m\n\u001b[1;32m   5016\u001b[0m         \u001b[0mmsg\u001b[0m \u001b[0;34m=\u001b[0m \u001b[0mstr\u001b[0m\u001b[0;34m(\u001b[0m\u001b[0mv\u001b[0m\u001b[0;34m)\u001b[0m\u001b[0;34m\u001b[0m\u001b[0;34m\u001b[0m\u001b[0m\n\u001b[0;32m-> 5017\u001b[0;31m     \u001b[0;32mraise\u001b[0m \u001b[0mValueError\u001b[0m\u001b[0;34m(\u001b[0m\u001b[0;34m\"length not known: %s\"\u001b[0m \u001b[0;34m%\u001b[0m \u001b[0mmsg\u001b[0m\u001b[0;34m)\u001b[0m\u001b[0;34m\u001b[0m\u001b[0;34m\u001b[0m\u001b[0m\n\u001b[0m\u001b[1;32m   5018\u001b[0m \u001b[0;34m\u001b[0m\u001b[0m\n\u001b[1;32m   5019\u001b[0m \u001b[0;34m\u001b[0m\u001b[0m\n",
      "\u001b[0;31mValueError\u001b[0m: length not known: y [id A]\n"
     ]
    }
   ],
   "source": [
    "sir_model = DifferentialEquation(\n",
    "    func=ODE,\n",
    "    times=times,\n",
    "    n_states=6,\n",
    "    n_theta=10,\n",
    "    t0=0,\n",
    ")"
   ]
  },
  {
   "cell_type": "code",
   "execution_count": null,
   "metadata": {},
   "outputs": [],
   "source": []
  }
 ],
 "metadata": {
  "kernelspec": {
   "display_name": "SageMath 9.0",
   "language": "sage",
   "name": "sagemath"
  },
  "language_info": {
   "codemirror_mode": {
    "name": "ipython",
    "version": 3
   },
   "file_extension": ".py",
   "mimetype": "text/x-python",
   "name": "python",
   "nbconvert_exporter": "python",
   "pygments_lexer": "ipython3",
   "version": "3.7.8"
  }
 },
 "nbformat": 4,
 "nbformat_minor": 4
}
