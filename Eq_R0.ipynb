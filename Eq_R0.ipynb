{
 "cells": [
  {
   "cell_type": "markdown",
   "metadata": {},
   "source": [
    "#### Encontrar os equilíbrios: ELD (eq. livre de doença) EE (eq. endêmicos)\n",
    "#### Por meio de metodo de linearização local, caracterizar as estabilidades dos equilíbrios"
   ]
  },
  {
   "cell_type": "code",
   "execution_count": 139,
   "metadata": {
    "collapsed": true,
    "jupyter": {
     "outputs_hidden": true
    }
   },
   "outputs": [
    {
     "name": "stdout",
     "output_type": "stream",
     "text": [
      "Requirement already satisfied: pandas in /opt/conda/envs/sage/lib/python3.7/site-packages (1.1.4)\n",
      "Requirement already satisfied: pytz>=2017.2 in /opt/conda/envs/sage/lib/python3.7/site-packages (from pandas) (2020.1)\n",
      "Requirement already satisfied: python-dateutil>=2.7.3 in /opt/conda/envs/sage/lib/python3.7/site-packages (from pandas) (2.8.1)\n",
      "Requirement already satisfied: numpy>=1.15.4 in /opt/conda/envs/sage/lib/python3.7/site-packages (from pandas) (1.19.1)\n",
      "Requirement already satisfied: six>=1.5 in /opt/conda/envs/sage/lib/python3.7/site-packages (from python-dateutil>=2.7.3->pandas) (1.15.0)\n"
     ]
    }
   ],
   "source": [
    "!pip install pandas"
   ]
  },
  {
   "cell_type": "code",
   "execution_count": 29,
   "metadata": {},
   "outputs": [],
   "source": [
    "import pandas as pd\n",
    "import math\n",
    "import numpy as np\n",
    "%display typeset"
   ]
  },
  {
   "cell_type": "code",
   "execution_count": 30,
   "metadata": {},
   "outputs": [
    {
     "data": {
      "text/html": [
       "<html><script type=\"math/tex; mode=display\">\\newcommand{\\Bold}[1]{\\mathbf{#1}}\\left(\\frac{\\partial}{\\partial t}S\\left(t\\right) = -I \\lambda S\\left(t\\right), \\frac{\\partial}{\\partial t}E\\left(t\\right) = I \\lambda S\\left(t\\right) - \\alpha E\\left(t\\right), \\frac{\\partial}{\\partial t}I\\left(t\\right) = -\\alpha {\\left(p - 1\\right)} E\\left(t\\right) - \\gamma I\\left(t\\right) - \\mu I\\left(t\\right), \\frac{\\partial}{\\partial t}A\\left(t\\right) = \\alpha p E\\left(t\\right) - \\theta A\\left(t\\right), \\frac{\\partial}{\\partial t}R\\left(t\\right) = \\theta A\\left(t\\right) + \\gamma I\\left(t\\right), \\frac{\\partial}{\\partial t}D\\left(t\\right) = \\mu I\\left(t\\right)\\right)</script></html>"
      ],
      "text/plain": [
       "(diff(S(t), t) == -I*lambda_*S(t),\n",
       " diff(E(t), t) == I*lambda_*S(t) - alpha*E(t),\n",
       " diff(I(t), t) == -alpha*(p - 1)*E(t) - gamma*I(t) - mu*I(t),\n",
       " diff(A(t), t) == alpha*p*E(t) - theta*A(t),\n",
       " diff(R(t), t) == theta*A(t) + gamma*I(t),\n",
       " diff(D(t), t) == mu*I(t))"
      ]
     },
     "execution_count": 30,
     "metadata": {},
     "output_type": "execute_result"
    }
   ],
   "source": [
    "var('t S E I A R D lambda_ gamma theta alpha mu p')\n",
    "\n",
    "S = function('S')(t)\n",
    "dsdt = diff(S,t) == -lambda_*S*I\n",
    "\n",
    "E = function('E')(t)\n",
    "dedt = diff(E,t) == lambda_*S*I - alpha*E\n",
    "\n",
    "I = function('I')(t)\n",
    "didt = diff(I,t) == (1-p)*alpha*E - gamma*I - mu*I\n",
    "\n",
    "A = function('A')(t)\n",
    "dadt = diff(A,t) == p*alpha*E - theta*A\n",
    "\n",
    "R = function('R')(t)\n",
    "drdt = diff(R,t) == gamma*I + theta*A\n",
    "\n",
    "D = function('D')(t)\n",
    "dddt = diff(D,t) == mu*I\n",
    "\n",
    "dsdt , dedt , didt , dadt , drdt , dddt"
   ]
  },
  {
   "cell_type": "markdown",
   "metadata": {},
   "source": [
    "#### Equilíbrio livre de doença"
   ]
  },
  {
   "cell_type": "code",
   "execution_count": 31,
   "metadata": {},
   "outputs": [
    {
     "data": {
      "text/html": [
       "<html><script type=\"math/tex; mode=display\">\\newcommand{\\Bold}[1]{\\mathbf{#1}}\\left[\\left[S = r_{2}, E = 0, I = 0, A = 0\\right]\\right]</script></html>"
      ],
      "text/plain": [
       "[[S == r2, E == 0, I == 0, A == 0]]"
      ]
     },
     "execution_count": 31,
     "metadata": {},
     "output_type": "execute_result"
    }
   ],
   "source": [
    "var('S E I A lambda_ gamma theta alpha mu p')\n",
    "# R D são compartimentos desaclopados da dinâmica\n",
    "\n",
    "dsdt = -lambda_*S*I\n",
    "\n",
    "dedt = lambda_*S*I - alpha*E\n",
    "\n",
    "didt = (1-p)*alpha*E - gamma*I - mu*I\n",
    "\n",
    "dadt = p*alpha*E - theta*A\n",
    "\n",
    "solve([dsdt,dedt,didt,dadt],[S,E,I,A])"
   ]
  },
  {
   "cell_type": "markdown",
   "metadata": {},
   "source": [
    "#### R_0"
   ]
  },
  {
   "cell_type": "code",
   "execution_count": 32,
   "metadata": {},
   "outputs": [
    {
     "data": {
      "text/html": [
       "<html><script type=\"math/tex; mode=display\">\\newcommand{\\Bold}[1]{\\mathbf{#1}}\\left(\\begin{array}{r}\n",
       "I S \\lambda \\\\\n",
       "0 \\\\\n",
       "0\n",
       "\\end{array}\\right)</script></html>"
      ],
      "text/plain": [
       "[I*S*lambda_]\n",
       "[          0]\n",
       "[          0]"
      ]
     },
     "execution_count": 32,
     "metadata": {},
     "output_type": "execute_result"
    }
   ],
   "source": [
    "# [E,I,A]\n",
    "F_cal =  matrix([[lambda_*S*I],[0],[0]]) # taxa de surgimento de novos infectados\n",
    "F_cal"
   ]
  },
  {
   "cell_type": "code",
   "execution_count": 33,
   "metadata": {},
   "outputs": [
    {
     "data": {
      "text/html": [
       "<html><script type=\"math/tex; mode=display\">\\newcommand{\\Bold}[1]{\\mathbf{#1}}\\left(\\begin{array}{r}\n",
       "E \\alpha \\\\\n",
       "I {\\left(\\gamma + \\mu\\right)} \\\\\n",
       "A \\theta\n",
       "\\end{array}\\right)</script></html>"
      ],
      "text/plain": [
       "[       E*alpha]\n",
       "[I*(gamma + mu)]\n",
       "[       A*theta]"
      ]
     },
     "execution_count": 33,
     "metadata": {},
     "output_type": "execute_result"
    }
   ],
   "source": [
    "V_cal_neg = matrix([[alpha*E],[(gamma+mu)*I],[theta*A]]) # taxa de saída de infectados\n",
    "V_cal_neg"
   ]
  },
  {
   "cell_type": "code",
   "execution_count": 34,
   "metadata": {},
   "outputs": [
    {
     "data": {
      "text/html": [
       "<html><script type=\"math/tex; mode=display\">\\newcommand{\\Bold}[1]{\\mathbf{#1}}\\left(\\begin{array}{r}\n",
       "0 \\\\\n",
       "-E \\alpha {\\left(p - 1\\right)} \\\\\n",
       "E \\alpha p\n",
       "\\end{array}\\right)</script></html>"
      ],
      "text/plain": [
       "[               0]\n",
       "[-E*alpha*(p - 1)]\n",
       "[       E*alpha*p]"
      ]
     },
     "execution_count": 34,
     "metadata": {},
     "output_type": "execute_result"
    }
   ],
   "source": [
    "V_cal_pos = matrix([[0],[(1-p)*alpha*E],[p*alpha*E]]) # taxa de entrada de infectados\n",
    "V_cal_pos"
   ]
  },
  {
   "cell_type": "code",
   "execution_count": 35,
   "metadata": {},
   "outputs": [
    {
     "data": {
      "text/html": [
       "<html><script type=\"math/tex; mode=display\">\\newcommand{\\Bold}[1]{\\mathbf{#1}}\\left(\\begin{array}{r}\n",
       "E \\alpha \\\\\n",
       "E \\alpha {\\left(p - 1\\right)} + I {\\left(\\gamma + \\mu\\right)} \\\\\n",
       "-E \\alpha p + A \\theta\n",
       "\\end{array}\\right)</script></html>"
      ],
      "text/plain": [
       "[                         E*alpha]\n",
       "[E*alpha*(p - 1) + I*(gamma + mu)]\n",
       "[            -E*alpha*p + A*theta]"
      ]
     },
     "execution_count": 35,
     "metadata": {},
     "output_type": "execute_result"
    }
   ],
   "source": [
    "V_cal = V_cal_neg - V_cal_pos\n",
    "V_cal"
   ]
  },
  {
   "cell_type": "markdown",
   "metadata": {},
   "source": [
    "Definimos também $F=\\left[\\frac{\\partial {\\cal F}_i (x_0)}{\\partial x_j}\\right]$ e $V=\\left[\\frac{\\partial {\\cal V}_i (x_0) }{\\partial x_j}\\right]$, onde $x_0$ é um DFE (Equilíbrio livre de doença) e $1\\leq i,j \\leq m$. \n",
    "\n",
    "Isto equivale à jacobiana  destas duas matrizes, após substituir $x_0$ ou seja, $S=1$."
   ]
  },
  {
   "cell_type": "code",
   "execution_count": 36,
   "metadata": {},
   "outputs": [
    {
     "data": {
      "text/html": [
       "<html><script type=\"math/tex; mode=display\">\\newcommand{\\Bold}[1]{\\mathbf{#1}}\\left(\\begin{array}{rrr}\n",
       "0 & \\lambda & 0 \\\\\n",
       "0 & 0 & 0 \\\\\n",
       "0 & 0 & 0\n",
       "\\end{array}\\right)</script></html>"
      ],
      "text/plain": [
       "[      0 lambda_       0]\n",
       "[      0       0       0]\n",
       "[      0       0       0]"
      ]
     },
     "execution_count": 36,
     "metadata": {},
     "output_type": "execute_result"
    }
   ],
   "source": [
    "F = jacobian(F_cal(S=1),[E,I,A])\n",
    "F"
   ]
  },
  {
   "cell_type": "code",
   "execution_count": 37,
   "metadata": {},
   "outputs": [
    {
     "data": {
      "text/html": [
       "<html><script type=\"math/tex; mode=display\">\\newcommand{\\Bold}[1]{\\mathbf{#1}}\\left(\\begin{array}{rrr}\n",
       "\\alpha & 0 & 0 \\\\\n",
       "\\alpha {\\left(p - 1\\right)} & \\gamma + \\mu & 0 \\\\\n",
       "-\\alpha p & 0 & \\theta\n",
       "\\end{array}\\right)</script></html>"
      ],
      "text/plain": [
       "[        alpha             0             0]\n",
       "[alpha*(p - 1)    gamma + mu             0]\n",
       "[     -alpha*p             0         theta]"
      ]
     },
     "execution_count": 37,
     "metadata": {},
     "output_type": "execute_result"
    }
   ],
   "source": [
    "V = jacobian(V_cal(S=1),[E,I,A])\n",
    "V"
   ]
  },
  {
   "cell_type": "markdown",
   "metadata": {},
   "source": [
    "${\\cal R}_0 = \\rho (FV^{-1})$"
   ]
  },
  {
   "cell_type": "code",
   "execution_count": 38,
   "metadata": {},
   "outputs": [],
   "source": [
    "M = F*V.inverse()"
   ]
  },
  {
   "cell_type": "code",
   "execution_count": 39,
   "metadata": {},
   "outputs": [
    {
     "data": {
      "text/html": [
       "<html><script type=\"math/tex; mode=display\">\\newcommand{\\Bold}[1]{\\mathbf{#1}}\\left(\\begin{array}{rrr}\n",
       "-\\frac{\\lambda p - \\lambda}{\\gamma + \\mu} & \\frac{\\lambda}{\\gamma + \\mu} & 0 \\\\\n",
       "0 & 0 & 0 \\\\\n",
       "0 & 0 & 0\n",
       "\\end{array}\\right)</script></html>"
      ],
      "text/plain": [
       "[-(lambda_*p - lambda_)/(gamma + mu)                lambda_/(gamma + mu)                                   0]\n",
       "[                                  0                                   0                                   0]\n",
       "[                                  0                                   0                                   0]"
      ]
     },
     "execution_count": 39,
     "metadata": {},
     "output_type": "execute_result"
    }
   ],
   "source": [
    "M=M.simplify_full()\n",
    "M"
   ]
  },
  {
   "cell_type": "code",
   "execution_count": 40,
   "metadata": {},
   "outputs": [
    {
     "data": {
      "text/html": [
       "<html><script type=\"math/tex; mode=display\">\\newcommand{\\Bold}[1]{\\mathbf{#1}}\\left[-\\frac{\\lambda p - \\lambda}{\\gamma + \\mu}, 0, 0\\right]</script></html>"
      ],
      "text/plain": [
       "[-(lambda_*p - lambda_)/(gamma + mu), 0, 0]"
      ]
     },
     "execution_count": 40,
     "metadata": {},
     "output_type": "execute_result"
    }
   ],
   "source": [
    "M.eigenvalues()"
   ]
  },
  {
   "cell_type": "code",
   "execution_count": 41,
   "metadata": {},
   "outputs": [
    {
     "data": {
      "text/html": [
       "<html><script type=\"math/tex; mode=display\">\\newcommand{\\Bold}[1]{\\mathbf{#1}}-\\frac{\\lambda p - \\lambda}{\\gamma + \\mu}</script></html>"
      ],
      "text/plain": [
       "-(lambda_*p - lambda_)/(gamma + mu)"
      ]
     },
     "execution_count": 41,
     "metadata": {},
     "output_type": "execute_result"
    }
   ],
   "source": [
    "R0=M[0,0].simplify_full()\n",
    "R0"
   ]
  },
  {
   "cell_type": "code",
   "execution_count": 42,
   "metadata": {},
   "outputs": [
    {
     "data": {
      "text/html": [
       "<html><script type=\"math/tex; mode=display\">\\newcommand{\\Bold}[1]{\\mathbf{#1}}\\left(\\gamma, \\lambda, \\mu, p\\right)</script></html>"
      ],
      "text/plain": [
       "(gamma, lambda_, mu, p)"
      ]
     },
     "execution_count": 42,
     "metadata": {},
     "output_type": "execute_result"
    }
   ],
   "source": [
    "R0.variables()"
   ]
  },
  {
   "cell_type": "code",
   "execution_count": 43,
   "metadata": {},
   "outputs": [
    {
     "data": {
      "text/html": [
       "<script type=\"math/tex\">R_t=</script>"
      ],
      "text/plain": [
       "<script type=\"math/tex\">R_t=</script>"
      ]
     },
     "metadata": {},
     "output_type": "display_data"
    },
    {
     "data": {
      "text/html": [
       "<html><script type=\"math/tex; mode=display\">\\newcommand{\\Bold}[1]{\\mathbf{#1}}\\mathrm{None}</script></html>"
      ],
      "text/plain": [
       "None"
      ]
     },
     "metadata": {},
     "output_type": "display_data"
    },
    {
     "data": {
      "text/html": [
       "<html><script type=\"math/tex; mode=display\">\\newcommand{\\Bold}[1]{\\mathbf{#1}}-\\frac{S \\lambda {\\left(p - 1\\right)}}{\\gamma + \\mu}</script></html>"
      ],
      "text/plain": [
       "-S*lambda_*(p - 1)/(gamma + mu)"
      ]
     },
     "execution_count": 43,
     "metadata": {},
     "output_type": "execute_result"
    }
   ],
   "source": [
    "Ft = jacobian(F_cal,[E,I,A])\n",
    "Vt = jacobian(V_cal,[E,I,A])\n",
    "Mt = Ft*Vt.inverse()\n",
    "show(pretty_print(html('$R_t=$')))\n",
    "Rt = Mt[0,0]\n",
    "Rt"
   ]
  },
  {
   "cell_type": "code",
   "execution_count": 44,
   "metadata": {},
   "outputs": [
    {
     "name": "stdout",
     "output_type": "stream",
     "text": [
      "-S*lambda_*(p - 1)/(gamma + mu)\n"
     ]
    }
   ],
   "source": [
    "print(Rt)"
   ]
  },
  {
   "cell_type": "code",
   "execution_count": 45,
   "metadata": {},
   "outputs": [],
   "source": [
    "lambda_ = 0.18\n",
    "alpha = 0.2\n",
    "p = 0.5\n",
    "theta = 0.5\n",
    "gamma = 0.15\n",
    "mu = 0.05\n",
    "mu1 = 0.05\n",
    "mu2 = 0.05\n",
    "t0 = -30  \n",
    "t1 = 55\n",
    "t2 = 110\n",
    "# obtidos do interact"
   ]
  },
  {
   "cell_type": "code",
   "execution_count": 46,
   "metadata": {},
   "outputs": [
    {
     "data": {
      "text/html": [
       "<html><script type=\"math/tex; mode=display\">\\newcommand{\\Bold}[1]{\\mathbf{#1}}0.450000000000000</script></html>"
      ],
      "text/plain": [
       "0.450000000000000"
      ]
     },
     "execution_count": 46,
     "metadata": {},
     "output_type": "execute_result"
    }
   ],
   "source": [
    "R0( gamma,lambda_,mu,p ) # valores do interact"
   ]
  },
  {
   "cell_type": "code",
   "execution_count": 49,
   "metadata": {},
   "outputs": [
    {
     "name": "stderr",
     "output_type": "stream",
     "text": [
      "/opt/conda/envs/sage/lib/python3.7/site-packages/sage/plot/graphics.py:2327: MatplotlibDeprecationWarning: \n",
      "The OldScalarFormatter class was deprecated in Matplotlib 3.3 and will be removed two minor releases later.\n",
      "  x_formatter = OldScalarFormatter()\n",
      "/opt/conda/envs/sage/lib/python3.7/site-packages/sage/plot/graphics.py:2352: MatplotlibDeprecationWarning: \n",
      "The OldScalarFormatter class was deprecated in Matplotlib 3.3 and will be removed two minor releases later.\n",
      "  y_formatter = OldScalarFormatter()\n"
     ]
    },
    {
     "data": {
      "image/png": "[encoded data removed]",
      "text/plain": [
       "Graphics object consisting of 1 graphics primitive"
      ]
     },
     "metadata": {},
     "output_type": "display_data"
    }
   ],
   "source": [
    "P = plot(Rt(alpha,gamma,lambda_,mu,p),(S,0,1))\n",
    "P.show(axes_labels=['S(t)','$R_t$'], gridlines=True) \n",
    "P.save('Rt.png')"
   ]
  },
  {
   "cell_type": "code",
   "execution_count": null,
   "metadata": {},
   "outputs": [],
   "source": []
  }
 ],
 "metadata": {
  "kernelspec": {
   "display_name": "SageMath 9.0",
   "language": "sage",
   "name": "sagemath"
  },
  "language_info": {
   "codemirror_mode": {
    "name": "ipython",
    "version": 3
   },
   "file_extension": ".py",
   "mimetype": "text/x-python",
   "name": "python",
   "nbconvert_exporter": "python",
   "pygments_lexer": "ipython3",
   "version": "3.7.8"
  }
 },
 "nbformat": 4,
 "nbformat_minor": 4
}
